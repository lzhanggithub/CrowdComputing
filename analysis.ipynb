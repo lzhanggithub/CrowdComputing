{
  "nbformat": 4,
  "nbformat_minor": 0,
  "metadata": {
    "colab": {
      "name": "analysis.ipynb",
      "provenance": [],
      "collapsed_sections": [],
      "authorship_tag": "ABX9TyMMlanqjGEAGcee2hkoTqYl",
      "include_colab_link": true
    },
    "kernelspec": {
      "name": "python3",
      "display_name": "Python 3"
    },
    "language_info": {
      "name": "python"
    }
  },
  "cells": [
    {
      "cell_type": "markdown",
      "metadata": {
        "id": "view-in-github",
        "colab_type": "text"
      },
      "source": [
        "<a href=\"https://colab.research.google.com/github/lzhanggithub/CrowdComputing/blob/main/analysis.ipynb\" target=\"_parent\"><img src=\"https://colab.research.google.com/assets/colab-badge.svg\" alt=\"Open In Colab\"/></a>"
      ]
    },
    {
      "cell_type": "code",
      "source": [
        "! pip install edit_distance\n",
        "import matplotlib.pyplot as plt\n",
        "import numpy as np\n",
        "import pandas as pd\n",
        "import edit_distance\n",
        "import scipy.stats as stats"
      ],
      "metadata": {
        "id": "Z3QqXwqlh1ge",
        "colab": {
          "base_uri": "https://localhost:8080/"
        },
        "outputId": "3e2246e6-9cec-4eaf-b087-fa381ed7278a"
      },
      "execution_count": null,
      "outputs": [
        {
          "output_type": "stream",
          "name": "stdout",
          "text": [
            "Looking in indexes: https://pypi.org/simple, https://us-python.pkg.dev/colab-wheels/public/simple/\n",
            "Requirement already satisfied: edit_distance in /usr/local/lib/python3.7/dist-packages (1.0.4)\n"
          ]
        }
      ]
    },
    {
      "cell_type": "code",
      "source": [
        "def extract_counting(df):\n",
        "    df_groupedby_worker = df.groupby(\"ASSIGNMENT:worker_id\").count()\n",
        "    # print(df_groupedby_worker.head)\n",
        "    counting = []\n",
        "    for i in range(16):\n",
        "        counting.append(df_groupedby_worker[df_groupedby_worker[\"OUTPUT:result1\"] == i].count()[\"OUTPUT:result1\"])\n",
        "    print(counting)\n",
        "    return counting"
      ],
      "metadata": {
        "id": "S6nd155jh0cy"
      },
      "execution_count": null,
      "outputs": []
    },
    {
      "cell_type": "code",
      "source": [
        "def viusalize_tasks(c1, c2, c3, type1, type2, type3, title):\n",
        "    x = np.array(range(0, 16))\n",
        "    plt.title(title)\n",
        "    plt.xlabel(\"finished tasks\")\n",
        "    plt.ylabel(\"number of workers\")\n",
        "    plt.plot(x, c1, color=\"red\", label=type1)\n",
        "    plt.plot(x, c3, color=\"blue\", label=type3)\n",
        "    plt.plot(x, c2, color=\"green\", label=type2)\n",
        "    plt.legend()\n",
        "    plt.show()"
      ],
      "metadata": {
        "id": "joZkJ4hQh53O"
      },
      "execution_count": null,
      "outputs": []
    },
    {
      "cell_type": "code",
      "execution_count": null,
      "metadata": {
        "colab": {
          "base_uri": "https://localhost:8080/"
        },
        "id": "1jmtroNZhjKb",
        "outputId": "2341f0b3-16bc-4cf6-f1a2-4aab641f4261"
      },
      "outputs": [
        {
          "output_type": "stream",
          "name": "stdout",
          "text": [
            "Index(['INPUT:imageURL', 'OUTPUT:result1', 'OUTPUT:result2', 'OUTPUT:result3',\n",
            "       'OUTPUT:result4', 'OUTPUT:result5', 'GOLDEN:result1', 'GOLDEN:result2',\n",
            "       'GOLDEN:result3', 'GOLDEN:result4', 'GOLDEN:result5', 'HINT:text',\n",
            "       'HINT:default_language', 'ASSIGNMENT:task_id',\n",
            "       'ASSIGNMENT:assignment_id', 'ASSIGNMENT:worker_id',\n",
            "       'ASSIGNMENT:status'],\n",
            "      dtype='object')\n",
            "[0, 72, 52, 47, 27, 25, 22, 13, 8, 8, 2, 5, 2, 2, 1, 7]\n",
            "[339, 0, 0, 0, 0, 0, 0, 0, 0, 0, 0, 0, 0, 0, 0, 0]\n",
            "[44, 0, 0, 0, 0, 0, 0, 0, 0, 0, 0, 0, 0, 0, 0, 0]\n",
            "[0, 20, 15, 5, 11, 11, 2, 1, 1, 2, 0, 0, 0, 0, 0, 0]\n",
            "[194, 0, 0, 0, 0, 0, 0, 0, 0, 0, 0, 0, 0, 0, 0, 0]\n",
            "[22, 0, 0, 0, 0, 0, 0, 0, 0, 0, 0, 0, 0, 0, 0, 0]\n",
            "[0, 22, 18, 17, 7, 8, 6, 3, 2, 2, 2, 0, 0, 0, 0, 0]\n",
            "[175, 0, 0, 0, 0, 0, 0, 0, 0, 0, 0, 0, 0, 0, 0, 0]\n",
            "[26, 0, 0, 0, 0, 0, 0, 0, 0, 0, 0, 0, 0, 0, 0, 0]\n"
          ]
        }
      ],
      "source": [
        "df1 = pd.read_csv(\"FILTERED-AVATAR-RESULTS.tsv\", delimiter = '\\t', quoting = 3)\n",
        "type1 = \"Evolution AVATAR\"\n",
        "print(df1.columns)\n",
        "# clean data\n",
        "df1.dropna(how='all', inplace = True) \n",
        "df1 = df1[df1[\"OUTPUT:result1\"] !=\"S\"]\n",
        "\n",
        "# extract status\n",
        "df1_approved = df1[df1[\"ASSIGNMENT:status\"] == \"APPROVED\"]\n",
        "df1_expired = df1[df1[\"ASSIGNMENT:status\"] == \"EXPIRED\"]\n",
        "df1_skipped = df1[df1[\"ASSIGNMENT:status\"]==\"SKIPPED\"]\n",
        "\n",
        "c1_approved = extract_counting(df1_approved)\n",
        "c1_expired = extract_counting(df1_expired)\n",
        "c1_skipped= extract_counting(df1_skipped)\n",
        "\n",
        "df2 = pd.read_csv(\"FILTERED-STATIC-RESULTS.tsv\", delimiter = '\\t', quoting = 3)\n",
        "type2 = \"Static Avatar\"\n",
        "\n",
        "# clean data\n",
        "df2.dropna(how='all', inplace = True) \n",
        "df2 = df2[df2[\"OUTPUT:result1\"] !=\"S\"]\n",
        "\n",
        "df2_approved = df2[df2[\"ASSIGNMENT:status\"] == \"APPROVED\"]\n",
        "df2_expired = df2[df2[\"ASSIGNMENT:status\"] == \"EXPIRED\"]\n",
        "df2_skipped = df2[df2[\"ASSIGNMENT:status\"] == \"SKIPPED\"]\n",
        "\n",
        "c2_approved = extract_counting(df2_approved)\n",
        "c2_expired = extract_counting(df2_expired)\n",
        "c2_skipped = extract_counting(df2_skipped)\n",
        "\n",
        "df3 = pd.read_csv(\"FILTERED-DEFAULT-RESULTS.tsv\", delimiter = '\\t', quoting = 3)\n",
        "type3 = \"No AVATAR\"\n",
        "# clean data\n",
        "df3.dropna(how='all', inplace = True)\n",
        "df3 = df3[df3[\"OUTPUT:result1\"] !=\"S\"]\n",
        "\n",
        "df3_approved = df3[df3[\"ASSIGNMENT:status\"] == \"APPROVED\"] \n",
        "df3_expired = df3[df3[\"ASSIGNMENT:status\"] == \"EXPIRED\"] \n",
        "df3_skipped = df3[df3[\"ASSIGNMENT:status\"] == \"SKIPPED\"] \n",
        "\n",
        "c3_approved = extract_counting(df3_approved)\n",
        "c3_expired = extract_counting(df3_expired)\n",
        "c3_skipped = extract_counting(df3_skipped)"
      ]
    },
    {
      "cell_type": "code",
      "source": [
        "df1.to_csv(\"df1_clean.csv\", index=False)\n",
        "df2.to_csv(\"df2_clean.csv\", index=False)\n",
        "df3.to_csv(\"df3_clean.csv\", index=False)"
      ],
      "metadata": {
        "id": "eQwWqvvBAnzE"
      },
      "execution_count": null,
      "outputs": []
    },
    {
      "cell_type": "code",
      "source": [
        "viusalize_tasks(c1_approved, c2_approved, c3_approved, type1, type2, type3, title=\"Accepted\")\n",
        "viusalize_tasks(c1_expired, c2_expired, c3_expired, type1, type2, type3, title = \"Expired\")\n",
        "viusalize_tasks(c1_skipped, c2_skipped, c3_skipped, type1, type2, type3, title = \"Rejected\")"
      ],
      "metadata": {
        "colab": {
          "base_uri": "https://localhost:8080/",
          "height": 851
        },
        "id": "nYxCKAabh8Sg",
        "outputId": "3453e867-4c0c-4cc9-c063-d66770f6af9b"
      },
      "execution_count": null,
      "outputs": [
        {
          "output_type": "display_data",
          "data": {
            "text/plain": [
              "<Figure size 432x288 with 1 Axes>"
            ],
            "image/png": "[encoded data removed]"
          },
          "metadata": {
            "needs_background": "light"
          }
        },
        {
          "output_type": "display_data",
          "data": {
            "text/plain": [
              "<Figure size 432x288 with 1 Axes>"
            ],
            "image/png": "[encoded data removed]"
          },
          "metadata": {
            "needs_background": "light"
          }
        },
        {
          "output_type": "display_data",
          "data": {
            "text/plain": [
              "<Figure size 432x288 with 1 Axes>"
            ],
            "image/png": "[encoded data removed]"
          },
          "metadata": {
            "needs_background": "light"
          }
        }
      ]
    },
    {
      "cell_type": "code",
      "source": [
        "# captchas approved\n",
        "df1_captchas = df1_approved[~df1_approved[\"GOLDEN:result1\"].isna()]\n",
        "df2_captchas = df2_approved[~df2_approved[\"GOLDEN:result1\"].isna()]\n",
        "df3_captchas = df3_approved[~df3_approved[\"GOLDEN:result1\"].isna()]"
      ],
      "metadata": {
        "id": "Kp2DG4mAt5wQ"
      },
      "execution_count": null,
      "outputs": []
    },
    {
      "cell_type": "code",
      "source": [
        "%%capture\n",
        "from statistics import mean\n",
        "\n",
        "def edit_distance(s1, s2):\n",
        "    m=len(s1)+1\n",
        "    n=len(s2)+1\n",
        "\n",
        "    tbl = {}\n",
        "    for i in range(m): tbl[i,0]=i\n",
        "    for j in range(n): tbl[0,j]=j\n",
        "    for i in range(1, m):\n",
        "        for j in range(1, n):\n",
        "            cost = 0 if s1[i-1] == s2[j-1] else 1\n",
        "            tbl[i,j] = min(tbl[i, j-1]+1, tbl[i-1, j]+1, tbl[i-1, j-1]+cost)\n",
        "\n",
        "    return tbl[i,j]\n",
        "\n",
        "print(edit_distance(\"Helloworld\", \"HalloWorld\"))\n",
        "\n",
        "for i in range(1,6):\n",
        "  # edit_distance(x[\"OUTPUT:result\"+str(i)], x[\"GOLDEN:result\"+str(i)])\n",
        "  df1_captchas['without_edit_distance_'+str(i)] = df1_captchas.apply(lambda x: edit_distance(x[\"OUTPUT:result\"+str(i)], x[\"GOLDEN:result\"+str(i)]), axis=1)\n",
        "  df2_captchas['without_edit_distance_'+str(i)] = df2_captchas.apply(lambda x: edit_distance(x[\"OUTPUT:result\"+str(i)], x[\"GOLDEN:result\"+str(i)]), axis=1)\n",
        "  df3_captchas['without_edit_distance_'+str(i)] = df3_captchas.apply(lambda x: edit_distance(x[\"OUTPUT:result\"+str(i)], x[\"GOLDEN:result\"+str(i)]), axis=1)\n",
        "\n",
        "for i in range(1,6):\n",
        "  # edit_distance(x[\"OUTPUT:result\"+str(i)], x[\"GOLDEN:result\"+str(i)])\n",
        "  df1_captchas['edit_distance_'+str(i)] = df1_captchas.apply(lambda x: edit_distance(x[\"OUTPUT:result\"+str(i)].lower().replace(\" \", \"\"), x[\"GOLDEN:result\"+str(i)].lower().replace(\" \", \"\")), axis=1)\n",
        "  df2_captchas['edit_distance_'+str(i)] = df2_captchas.apply(lambda x: edit_distance(x[\"OUTPUT:result\"+str(i)].lower().replace(\" \", \"\"), x[\"GOLDEN:result\"+str(i)].lower().replace(\" \", \"\")), axis=1)\n",
        "  df3_captchas['edit_distance_'+str(i)] = df3_captchas.apply(lambda x: edit_distance(x[\"OUTPUT:result\"+str(i)].lower().replace(\" \", \"\"), x[\"GOLDEN:result\"+str(i)].lower().replace(\" \", \"\")), axis=1)\n",
        "\n",
        "\n",
        "def compute_score(el1,el2,el3,el4,el5):\n",
        "  acc = []\n",
        "  # acc.append(((10 - el1)/10)*100)\n",
        "  # acc.append(((10 - el2)/10)*100)\n",
        "  # acc.append(((10 - el3)/10)*100)\n",
        "  # acc.append(((10 - el4)/10)*100)\n",
        "  # acc.append(((10 - el5)/10)*100)\n",
        "  return sum([el1,el2,el3,el4,el5])\n",
        "\n",
        "\n",
        "\n",
        "# edit_distance(x[\"OUTPUT:result\"+str(i)], x[\"GOLDEN:result\"+str(i)])\n",
        "df1_captchas['avg_score_per_worker_per_tasksuite'] = df1_captchas.apply(lambda x: compute_score(x['edit_distance_1'],x['edit_distance_2'],x['edit_distance_3'],x['edit_distance_4'],x['edit_distance_5']), axis=1)\n",
        "df2_captchas['avg_score_per_worker_per_tasksuite'] = df2_captchas.apply(lambda x: compute_score(x['edit_distance_1'],x['edit_distance_2'],x['edit_distance_3'],x['edit_distance_4'],x['edit_distance_5']), axis=1)\n",
        "df3_captchas['avg_score_per_worker_per_tasksuite'] = df3_captchas.apply(lambda x: compute_score(x['edit_distance_1'],x['edit_distance_2'],x['edit_distance_3'],x['edit_distance_4'],x['edit_distance_5']), axis=1)\n",
        "\n",
        "df1_captchas['without_avg_score_per_worker_per_tasksuite'] = df1_captchas.apply(lambda x: compute_score(x['without_edit_distance_1'],x['without_edit_distance_2'],x['without_edit_distance_3'],x['without_edit_distance_4'],x['without_edit_distance_5']), axis=1)\n",
        "df2_captchas['without_avg_score_per_worker_per_tasksuite'] = df2_captchas.apply(lambda x: compute_score(x['without_edit_distance_1'],x['without_edit_distance_2'],x['without_edit_distance_3'],x['without_edit_distance_4'],x['without_edit_distance_5']), axis=1)\n",
        "df3_captchas['without_avg_score_per_worker_per_tasksuite'] = df3_captchas.apply(lambda x: compute_score(x['without_edit_distance_1'],x['without_edit_distance_2'],x['without_edit_distance_3'],x['without_edit_distance_4'],x['without_edit_distance_5']), axis=1)\n",
        "\n"
      ],
      "metadata": {
        "id": "6JlGX8vXu34d"
      },
      "execution_count": null,
      "outputs": []
    },
    {
      "cell_type": "code",
      "source": [
        "m1_norm=(df1_captchas[\"avg_score_per_worker_per_tasksuite\"]-df1_captchas[\"avg_score_per_worker_per_tasksuite\"].min())/(df1_captchas[\"avg_score_per_worker_per_tasksuite\"].max()-df1_captchas[\"avg_score_per_worker_per_tasksuite\"].min())\n",
        "m2_norm=(df2_captchas[\"avg_score_per_worker_per_tasksuite\"]-df2_captchas[\"avg_score_per_worker_per_tasksuite\"].min())/(df2_captchas[\"avg_score_per_worker_per_tasksuite\"].max()-df2_captchas[\"avg_score_per_worker_per_tasksuite\"].min())\n",
        "m3_norm=(df3_captchas[\"avg_score_per_worker_per_tasksuite\"]-df3_captchas[\"avg_score_per_worker_per_tasksuite\"].min())/(df3_captchas[\"avg_score_per_worker_per_tasksuite\"].max()-df3_captchas[\"avg_score_per_worker_per_tasksuite\"].min())\n",
        "m1= m1_norm.mean()\n",
        "v1 = m1_norm.var()\n",
        "print(1-m1,v1)\n",
        "\n",
        "m2= m2_norm.mean()\n",
        "v2 = m2_norm.var()\n",
        "print(1-m2,v2)\n",
        "\n",
        "m3 = m3_norm.mean()\n",
        "v3 = m3_norm.var()\n",
        "print(1-m3,v3)\n",
        "\n",
        "\n",
        "print(stats.ttest_ind(a=m1_norm,b=m2_norm,equal_var=False))\n",
        "print(stats.ttest_ind(a=m1_norm,b=m3_norm,equal_var=False))\n",
        "print(stats.ttest_ind(a=m3_norm,b=m2_norm,equal_var=False))"
      ],
      "metadata": {
        "colab": {
          "base_uri": "https://localhost:8080/"
        },
        "id": "lkFLR3Q99-C8",
        "outputId": "928222a6-4feb-4f74-fcdc-e63740a78e2c"
      },
      "execution_count": null,
      "outputs": [
        {
          "output_type": "stream",
          "name": "stdout",
          "text": [
            "0.9544835732447094 0.0038421397405809412\n",
            "0.842196400091137 0.030846521899153448\n",
            "0.8581897220928428 0.025705087935839133\n",
            "Ttest_indResult(statistic=-9.08698758229861, pvalue=5.707214581032969e-17)\n",
            "Ttest_indResult(statistic=-9.864199017259415, pvalue=3.442679750846896e-20)\n",
            "Ttest_indResult(statistic=-1.037163175058625, pvalue=0.3002510200326917)\n"
          ]
        }
      ]
    },
    {
      "cell_type": "code",
      "source": [
        "m1_norm=(df1_captchas[\"without_avg_score_per_worker_per_tasksuite\"]-df1_captchas[\"without_avg_score_per_worker_per_tasksuite\"].min())/(df1_captchas[\"without_avg_score_per_worker_per_tasksuite\"].max()-df1_captchas[\"without_avg_score_per_worker_per_tasksuite\"].min())\n",
        "m2_norm=(df2_captchas[\"without_avg_score_per_worker_per_tasksuite\"]-df2_captchas[\"without_avg_score_per_worker_per_tasksuite\"].min())/(df2_captchas[\"without_avg_score_per_worker_per_tasksuite\"].max()-df2_captchas[\"without_avg_score_per_worker_per_tasksuite\"].min())\n",
        "m3_norm=(df3_captchas[\"without_avg_score_per_worker_per_tasksuite\"]-df3_captchas[\"without_avg_score_per_worker_per_tasksuite\"].min())/(df3_captchas[\"without_avg_score_per_worker_per_tasksuite\"].max()-df3_captchas[\"without_avg_score_per_worker_per_tasksuite\"].min())\n",
        "m1= m1_norm.mean()\n",
        "v1 = m1_norm.var()\n",
        "print(1-m1,v1)\n",
        "\n",
        "m2= m2_norm.mean()\n",
        "v2 = m2_norm.var()\n",
        "print(1-m2,v2)\n",
        "\n",
        "m3 = m3_norm.mean()\n",
        "v3 = m3_norm.var()\n",
        "print(1-m3,v3)\n",
        "\n",
        "print(stats.ttest_ind(a=m1_norm,b=m2_norm,equal_var=False))\n",
        "print(stats.ttest_ind(a=m1_norm,b=m3_norm,equal_var=False))\n",
        "print(stats.ttest_ind(a=m3_norm,b=m2_norm,equal_var=False))"
      ],
      "metadata": {
        "colab": {
          "base_uri": "https://localhost:8080/"
        },
        "id": "Qu2m9wxQ-ciF",
        "outputId": "b5b55eaf-7a89-41fd-cf82-3a8fdfa2d162"
      },
      "execution_count": null,
      "outputs": [
        {
          "output_type": "stream",
          "name": "stdout",
          "text": [
            "0.9488288675363903 0.0038620320791051656\n",
            "0.8596004236823842 0.022851968616002118\n",
            "0.8698746867167919 0.019587976480436507\n",
            "Ttest_indResult(statistic=-8.33989279993322, pvalue=7.103234082218009e-15)\n",
            "Ttest_indResult(statistic=-9.187018445550262, pvalue=4.763433167908887e-18)\n",
            "Ttest_indResult(statistic=-0.7699386982423312, pvalue=0.44176113311759346)\n"
          ]
        }
      ]
    },
    {
      "cell_type": "code",
      "source": [
        "df1_captchas['ASSIGNMENT:worker_id'].value_counts().to_frame().value_counts().plot.bar()\n",
        "print(df1_captchas['ASSIGNMENT:worker_id'].value_counts().to_frame().value_counts())\n",
        "print(df1_captchas['ASSIGNMENT:worker_id'].value_counts())\n",
        "plt.show()\n",
        "# 10/217 = 0.04\n",
        "\n",
        "df2_captchas['ASSIGNMENT:worker_id'].value_counts().to_frame().value_counts().plot.bar()\n",
        "print(df2_captchas['ASSIGNMENT:worker_id'].value_counts().to_frame().value_counts())\n",
        "print(df2_captchas['ASSIGNMENT:worker_id'].value_counts())\n",
        "plt.show()\n",
        "# 0/68 = 0\n",
        "\n",
        "df3_captchas['ASSIGNMENT:worker_id'].value_counts().to_frame().value_counts().plot.bar()\n",
        "print(df3_captchas['ASSIGNMENT:worker_id'].value_counts().to_frame().value_counts())\n",
        "print(df3_captchas['ASSIGNMENT:worker_id'].value_counts())\n",
        "# 2/84 = 0.02"
      ],
      "metadata": {
        "colab": {
          "base_uri": "https://localhost:8080/",
          "height": 1000
        },
        "id": "lhpi3_DK_0Cf",
        "outputId": "bd84fad1-2a5b-40e5-87c4-3516d08184cf"
      },
      "execution_count": null,
      "outputs": [
        {
          "output_type": "stream",
          "name": "stdout",
          "text": [
            "ASSIGNMENT:worker_id\n",
            "1                       55\n",
            "2                       43\n",
            "3                       39\n",
            "4                       20\n",
            "5                       17\n",
            "6                       13\n",
            "7                       10\n",
            "10                      10\n",
            "8                        8\n",
            "9                        2\n",
            "dtype: int64\n",
            "1489ed8b1896f56ea20144fc9666b988    10\n",
            "b03440411008264d4113ea36ebe2f96f    10\n",
            "e99518a6ab21d9d3b716a319309eb686    10\n",
            "1d0a130150bf83d7dc157a43539de609    10\n",
            "6d3a848a22863f0ff96c99b01e9d12e7    10\n",
            "                                    ..\n",
            "d22a465e2d4cd880c7b0ed5d8f6b0aa8     1\n",
            "89d3cdc42f39e504a624efc8197872f3     1\n",
            "89895b79a674c701b46c537df8ab55ed     1\n",
            "0612d63c4ebcbcfb3187d11b329b90bc     1\n",
            "ce6a3f63c047b5cbf00de6d77a2d0660     1\n",
            "Name: ASSIGNMENT:worker_id, Length: 217, dtype: int64\n"
          ]
        },
        {
          "output_type": "display_data",
          "data": {
            "text/plain": [
              "<Figure size 432x288 with 1 Axes>"
            ],
            "image/png": "[encoded data removed]"
          },
          "metadata": {
            "needs_background": "light"
          }
        },
        {
          "output_type": "stream",
          "name": "stdout",
          "text": [
            "ASSIGNMENT:worker_id\n",
            "1                       20\n",
            "2                       15\n",
            "4                       11\n",
            "5                       11\n",
            "3                        5\n",
            "6                        2\n",
            "9                        2\n",
            "7                        1\n",
            "8                        1\n",
            "dtype: int64\n",
            "f8058ebbc2531665094a5f08b80f58c5    9\n",
            "cb4318314d8fb387f403c75e8c62aef0    9\n",
            "c21837cbe28d0fdf96766d38e5003306    8\n",
            "ccf28429929e31534ae796193e8c2238    7\n",
            "370d279397210e8314342d95d7217600    6\n",
            "                                   ..\n",
            "7d45f6f154ceb7676e30eee514352cdb    1\n",
            "6309a58e8603aca84a77315b7fb01da0    1\n",
            "8bc77dd4ea0c6545bf0a8e313cb1af3a    1\n",
            "394e0c9261128eb4e3858f7d7e11523f    1\n",
            "1ac70ff4a379d9f4a97035d19f70c6d9    1\n",
            "Name: ASSIGNMENT:worker_id, Length: 68, dtype: int64\n"
          ]
        },
        {
          "output_type": "display_data",
          "data": {
            "text/plain": [
              "<Figure size 432x288 with 1 Axes>"
            ],
            "image/png": "[encoded data removed]"
          },
          "metadata": {
            "needs_background": "light"
          }
        },
        {
          "output_type": "stream",
          "name": "stdout",
          "text": [
            "ASSIGNMENT:worker_id\n",
            "1                       19\n",
            "2                       18\n",
            "3                       17\n",
            "5                        8\n",
            "4                        7\n",
            "6                        6\n",
            "7                        3\n",
            "8                        2\n",
            "9                        2\n",
            "10                       2\n",
            "dtype: int64\n",
            "bbcad3e32725336d96df32df283ed0fe    10\n",
            "f19da9c76af32a3eb1a6bed0cb86f00f    10\n",
            "2136a3aad80ad566166df8e71dad7322     9\n",
            "296fc8d372c9ef0583d966630f69fe65     9\n",
            "3929d7c950991930645617d8b6ae7aa6     8\n",
            "                                    ..\n",
            "761795430c8b45ebe583840b58753a77     1\n",
            "73e07b8ef092048a7eb08d471b4ccc99     1\n",
            "3da4113e505856d243e974a5cd07284a     1\n",
            "797785d3f3966b9cb0d0ac94be81ff6c     1\n",
            "e4ff12f0b5e18a0325e03c9f6870726d     1\n",
            "Name: ASSIGNMENT:worker_id, Length: 84, dtype: int64\n"
          ]
        },
        {
          "output_type": "display_data",
          "data": {
            "text/plain": [
              "<Figure size 432x288 with 1 Axes>"
            ],
            "image/png": "[encoded data removed]"
          },
          "metadata": {
            "needs_background": "light"
          }
        }
      ]
    },
    {
      "cell_type": "code",
      "source": [
        "# questionnaire result\n",
        "df1_quest = df1[df1[\"GOLDEN:result1\"].isna()]\n",
        "df1_quest[\"INPUT:imageURL\"]\n",
        "df1_quest.to_csv(\"avatar_questionaaire.csv\",index = False)\n",
        "\n",
        "df2_quest = df2[df2[\"GOLDEN:result1\"].isna()]\n",
        "df2_quest[\"INPUT:imageURL\"]\n",
        "df2_quest.to_csv(\"STATIC_questionaaire.csv\",index = False)\n",
        "\n",
        "df3_quest = df3[df3[\"GOLDEN:result1\"].isna()]\n",
        "df3_quest[\"INPUT:imageURL\"]\n",
        "df3_quest.to_csv(\"NO_avatar_questionaaire.csv\",index = False)"
      ],
      "metadata": {
        "id": "c-M6xFVp_jwi"
      },
      "execution_count": null,
      "outputs": []
    },
    {
      "cell_type": "code",
      "source": [
        "df1_captchas = df1[~df1[\"GOLDEN:result1\"].isna()]\n",
        "df2_captchas = df2[~df2[\"GOLDEN:result1\"].isna()]\n",
        "df3_captchas = df3[~df3[\"GOLDEN:result2\"].isna()]"
      ],
      "metadata": {
        "id": "fv7STn_HEFLh"
      },
      "execution_count": null,
      "outputs": []
    },
    {
      "cell_type": "code",
      "source": [
        "# Approved captchas data \n",
        "df1_captchas = df1_captchas[df1_captchas[\"ASSIGNMENT:status\"] == \"APPROVED\"]\n",
        "df2_captchas = df2_captchas[df2_captchas[\"ASSIGNMENT:status\"] == \"APPROVED\"]\n",
        "df3_captchas = df3_captchas[df3_captchas[\"ASSIGNMENT:status\"] == \"APPROVED\"]\n"
      ],
      "metadata": {
        "id": "RPugRXh9KccT"
      },
      "execution_count": null,
      "outputs": []
    },
    {
      "cell_type": "code",
      "source": [
        "# people who have achieved 10 means they finished all captchas\n",
        "df1_captchas_grouped_by_worker = df1_captchas.groupby(\"ASSIGNMENT:worker_id\").count().sort_values(\"INPUT:imageURL\", ascending = False)\n",
        "df2_captchas_grouped_by_worker = df2_captchas.groupby(\"ASSIGNMENT:worker_id\").count().sort_values(\"INPUT:imageURL\", ascending = False)\n",
        "df3_captchas_grouped_by_worker = df3_captchas.groupby(\"ASSIGNMENT:worker_id\").count().sort_values(\"INPUT:imageURL\", ascending = False)"
      ],
      "metadata": {
        "id": "4O8fs750Eq92"
      },
      "execution_count": null,
      "outputs": []
    },
    {
      "cell_type": "code",
      "source": [
        "df1_captchas_grouped_by_worker"
      ],
      "metadata": {
        "colab": {
          "base_uri": "https://localhost:8080/",
          "height": 519
        },
        "id": "3HFKY8wTNb3j",
        "outputId": "04eedb69-4a1a-42fa-cd53-6285f590f640"
      },
      "execution_count": null,
      "outputs": [
        {
          "output_type": "execute_result",
          "data": {
            "text/plain": [
              "                                  INPUT:imageURL  OUTPUT:result1  \\\n",
              "ASSIGNMENT:worker_id                                               \n",
              "1d0a130150bf83d7dc157a43539de609              10              10   \n",
              "6d3a848a22863f0ff96c99b01e9d12e7              10              10   \n",
              "a311d48ee766b6e696228ffe2b731f5e              10              10   \n",
              "250357b1415df42ac100d804184c1f94              10              10   \n",
              "7c385088711dabc280549952072c4f52              10              10   \n",
              "...                                          ...             ...   \n",
              "a68cf4d807f9a78501dbf25baeed0f2e               1               1   \n",
              "a452e450f913cfe653eea58d50393718               1               1   \n",
              "4dcdedbb7dcab5692473c21c57f5d301               1               1   \n",
              "9e514ad49770973afe0b0762ef73c345               1               1   \n",
              "497d8cde733d14c2719561209431f9b1               1               1   \n",
              "\n",
              "                                  OUTPUT:result2  OUTPUT:result3  \\\n",
              "ASSIGNMENT:worker_id                                               \n",
              "1d0a130150bf83d7dc157a43539de609              10              10   \n",
              "6d3a848a22863f0ff96c99b01e9d12e7              10              10   \n",
              "a311d48ee766b6e696228ffe2b731f5e              10              10   \n",
              "250357b1415df42ac100d804184c1f94              10              10   \n",
              "7c385088711dabc280549952072c4f52              10              10   \n",
              "...                                          ...             ...   \n",
              "a68cf4d807f9a78501dbf25baeed0f2e               1               1   \n",
              "a452e450f913cfe653eea58d50393718               1               1   \n",
              "4dcdedbb7dcab5692473c21c57f5d301               1               1   \n",
              "9e514ad49770973afe0b0762ef73c345               1               1   \n",
              "497d8cde733d14c2719561209431f9b1               1               1   \n",
              "\n",
              "                                  OUTPUT:result4  OUTPUT:result5  \\\n",
              "ASSIGNMENT:worker_id                                               \n",
              "1d0a130150bf83d7dc157a43539de609              10              10   \n",
              "6d3a848a22863f0ff96c99b01e9d12e7              10              10   \n",
              "a311d48ee766b6e696228ffe2b731f5e              10              10   \n",
              "250357b1415df42ac100d804184c1f94              10              10   \n",
              "7c385088711dabc280549952072c4f52              10              10   \n",
              "...                                          ...             ...   \n",
              "a68cf4d807f9a78501dbf25baeed0f2e               1               1   \n",
              "a452e450f913cfe653eea58d50393718               1               1   \n",
              "4dcdedbb7dcab5692473c21c57f5d301               1               1   \n",
              "9e514ad49770973afe0b0762ef73c345               1               1   \n",
              "497d8cde733d14c2719561209431f9b1               1               1   \n",
              "\n",
              "                                  GOLDEN:result1  GOLDEN:result2  \\\n",
              "ASSIGNMENT:worker_id                                               \n",
              "1d0a130150bf83d7dc157a43539de609              10              10   \n",
              "6d3a848a22863f0ff96c99b01e9d12e7              10              10   \n",
              "a311d48ee766b6e696228ffe2b731f5e              10              10   \n",
              "250357b1415df42ac100d804184c1f94              10              10   \n",
              "7c385088711dabc280549952072c4f52              10              10   \n",
              "...                                          ...             ...   \n",
              "a68cf4d807f9a78501dbf25baeed0f2e               1               1   \n",
              "a452e450f913cfe653eea58d50393718               1               1   \n",
              "4dcdedbb7dcab5692473c21c57f5d301               1               1   \n",
              "9e514ad49770973afe0b0762ef73c345               1               1   \n",
              "497d8cde733d14c2719561209431f9b1               1               1   \n",
              "\n",
              "                                  GOLDEN:result3  GOLDEN:result4  \\\n",
              "ASSIGNMENT:worker_id                                               \n",
              "1d0a130150bf83d7dc157a43539de609              10              10   \n",
              "6d3a848a22863f0ff96c99b01e9d12e7              10              10   \n",
              "a311d48ee766b6e696228ffe2b731f5e              10              10   \n",
              "250357b1415df42ac100d804184c1f94              10              10   \n",
              "7c385088711dabc280549952072c4f52              10              10   \n",
              "...                                          ...             ...   \n",
              "a68cf4d807f9a78501dbf25baeed0f2e               1               1   \n",
              "a452e450f913cfe653eea58d50393718               1               1   \n",
              "4dcdedbb7dcab5692473c21c57f5d301               1               1   \n",
              "9e514ad49770973afe0b0762ef73c345               1               1   \n",
              "497d8cde733d14c2719561209431f9b1               1               1   \n",
              "\n",
              "                                  GOLDEN:result5  HINT:text  \\\n",
              "ASSIGNMENT:worker_id                                          \n",
              "1d0a130150bf83d7dc157a43539de609              10          0   \n",
              "6d3a848a22863f0ff96c99b01e9d12e7              10          0   \n",
              "a311d48ee766b6e696228ffe2b731f5e              10          0   \n",
              "250357b1415df42ac100d804184c1f94              10          0   \n",
              "7c385088711dabc280549952072c4f52              10          0   \n",
              "...                                          ...        ...   \n",
              "a68cf4d807f9a78501dbf25baeed0f2e               1          0   \n",
              "a452e450f913cfe653eea58d50393718               1          0   \n",
              "4dcdedbb7dcab5692473c21c57f5d301               1          0   \n",
              "9e514ad49770973afe0b0762ef73c345               1          0   \n",
              "497d8cde733d14c2719561209431f9b1               1          0   \n",
              "\n",
              "                                  HINT:default_language  ASSIGNMENT:task_id  \\\n",
              "ASSIGNMENT:worker_id                                                          \n",
              "1d0a130150bf83d7dc157a43539de609                      0                  10   \n",
              "6d3a848a22863f0ff96c99b01e9d12e7                      0                  10   \n",
              "a311d48ee766b6e696228ffe2b731f5e                      0                  10   \n",
              "250357b1415df42ac100d804184c1f94                      0                  10   \n",
              "7c385088711dabc280549952072c4f52                      0                  10   \n",
              "...                                                 ...                 ...   \n",
              "a68cf4d807f9a78501dbf25baeed0f2e                      0                   1   \n",
              "a452e450f913cfe653eea58d50393718                      0                   1   \n",
              "4dcdedbb7dcab5692473c21c57f5d301                      0                   1   \n",
              "9e514ad49770973afe0b0762ef73c345                      0                   1   \n",
              "497d8cde733d14c2719561209431f9b1                      0                   1   \n",
              "\n",
              "                                  ASSIGNMENT:assignment_id  ASSIGNMENT:status  \n",
              "ASSIGNMENT:worker_id                                                           \n",
              "1d0a130150bf83d7dc157a43539de609                        10                 10  \n",
              "6d3a848a22863f0ff96c99b01e9d12e7                        10                 10  \n",
              "a311d48ee766b6e696228ffe2b731f5e                        10                 10  \n",
              "250357b1415df42ac100d804184c1f94                        10                 10  \n",
              "7c385088711dabc280549952072c4f52                        10                 10  \n",
              "...                                                    ...                ...  \n",
              "a68cf4d807f9a78501dbf25baeed0f2e                         1                  1  \n",
              "a452e450f913cfe653eea58d50393718                         1                  1  \n",
              "4dcdedbb7dcab5692473c21c57f5d301                         1                  1  \n",
              "9e514ad49770973afe0b0762ef73c345                         1                  1  \n",
              "497d8cde733d14c2719561209431f9b1                         1                  1  \n",
              "\n",
              "[217 rows x 16 columns]"
            ],
            "text/html": [
              "\n",
              "  <div id=\"df-14874303-cd46-4261-afb3-5ff4988a8856\">\n",
              "    <div class=\"colab-df-container\">\n",
              "      <div>\n",
              "<style scoped>\n",
              "    .dataframe tbody tr th:only-of-type {\n",
              "        vertical-align: middle;\n",
              "    }\n",
              "\n",
              "    .dataframe tbody tr th {\n",
              "        vertical-align: top;\n",
              "    }\n",
              "\n",
              "    .dataframe thead th {\n",
              "        text-align: right;\n",
              "    }\n",
              "</style>\n",
              "<table border=\"1\" class=\"dataframe\">\n",
              "  <thead>\n",
              "    <tr style=\"text-align: right;\">\n",
              "      <th></th>\n",
              "      <th>INPUT:imageURL</th>\n",
              "      <th>OUTPUT:result1</th>\n",
              "      <th>OUTPUT:result2</th>\n",
              "      <th>OUTPUT:result3</th>\n",
              "      <th>OUTPUT:result4</th>\n",
              "      <th>OUTPUT:result5</th>\n",
              "      <th>GOLDEN:result1</th>\n",
              "      <th>GOLDEN:result2</th>\n",
              "      <th>GOLDEN:result3</th>\n",
              "      <th>GOLDEN:result4</th>\n",
              "      <th>GOLDEN:result5</th>\n",
              "      <th>HINT:text</th>\n",
              "      <th>HINT:default_language</th>\n",
              "      <th>ASSIGNMENT:task_id</th>\n",
              "      <th>ASSIGNMENT:assignment_id</th>\n",
              "      <th>ASSIGNMENT:status</th>\n",
              "    </tr>\n",
              "    <tr>\n",
              "      <th>ASSIGNMENT:worker_id</th>\n",
              "      <th></th>\n",
              "      <th></th>\n",
              "      <th></th>\n",
              "      <th></th>\n",
              "      <th></th>\n",
              "      <th></th>\n",
              "      <th></th>\n",
              "      <th></th>\n",
              "      <th></th>\n",
              "      <th></th>\n",
              "      <th></th>\n",
              "      <th></th>\n",
              "      <th></th>\n",
              "      <th></th>\n",
              "      <th></th>\n",
              "      <th></th>\n",
              "    </tr>\n",
              "  </thead>\n",
              "  <tbody>\n",
              "    <tr>\n",
              "      <th>1d0a130150bf83d7dc157a43539de609</th>\n",
              "      <td>10</td>\n",
              "      <td>10</td>\n",
              "      <td>10</td>\n",
              "      <td>10</td>\n",
              "      <td>10</td>\n",
              "      <td>10</td>\n",
              "      <td>10</td>\n",
              "      <td>10</td>\n",
              "      <td>10</td>\n",
              "      <td>10</td>\n",
              "      <td>10</td>\n",
              "      <td>0</td>\n",
              "      <td>0</td>\n",
              "      <td>10</td>\n",
              "      <td>10</td>\n",
              "      <td>10</td>\n",
              "    </tr>\n",
              "    <tr>\n",
              "      <th>6d3a848a22863f0ff96c99b01e9d12e7</th>\n",
              "      <td>10</td>\n",
              "      <td>10</td>\n",
              "      <td>10</td>\n",
              "      <td>10</td>\n",
              "      <td>10</td>\n",
              "      <td>10</td>\n",
              "      <td>10</td>\n",
              "      <td>10</td>\n",
              "      <td>10</td>\n",
              "      <td>10</td>\n",
              "      <td>10</td>\n",
              "      <td>0</td>\n",
              "      <td>0</td>\n",
              "      <td>10</td>\n",
              "      <td>10</td>\n",
              "      <td>10</td>\n",
              "    </tr>\n",
              "    <tr>\n",
              "      <th>a311d48ee766b6e696228ffe2b731f5e</th>\n",
              "      <td>10</td>\n",
              "      <td>10</td>\n",
              "      <td>10</td>\n",
              "      <td>10</td>\n",
              "      <td>10</td>\n",
              "      <td>10</td>\n",
              "      <td>10</td>\n",
              "      <td>10</td>\n",
              "      <td>10</td>\n",
              "      <td>10</td>\n",
              "      <td>10</td>\n",
              "      <td>0</td>\n",
              "      <td>0</td>\n",
              "      <td>10</td>\n",
              "      <td>10</td>\n",
              "      <td>10</td>\n",
              "    </tr>\n",
              "    <tr>\n",
              "      <th>250357b1415df42ac100d804184c1f94</th>\n",
              "      <td>10</td>\n",
              "      <td>10</td>\n",
              "      <td>10</td>\n",
              "      <td>10</td>\n",
              "      <td>10</td>\n",
              "      <td>10</td>\n",
              "      <td>10</td>\n",
              "      <td>10</td>\n",
              "      <td>10</td>\n",
              "      <td>10</td>\n",
              "      <td>10</td>\n",
              "      <td>0</td>\n",
              "      <td>0</td>\n",
              "      <td>10</td>\n",
              "      <td>10</td>\n",
              "      <td>10</td>\n",
              "    </tr>\n",
              "    <tr>\n",
              "      <th>7c385088711dabc280549952072c4f52</th>\n",
              "      <td>10</td>\n",
              "      <td>10</td>\n",
              "      <td>10</td>\n",
              "      <td>10</td>\n",
              "      <td>10</td>\n",
              "      <td>10</td>\n",
              "      <td>10</td>\n",
              "      <td>10</td>\n",
              "      <td>10</td>\n",
              "      <td>10</td>\n",
              "      <td>10</td>\n",
              "      <td>0</td>\n",
              "      <td>0</td>\n",
              "      <td>10</td>\n",
              "      <td>10</td>\n",
              "      <td>10</td>\n",
              "    </tr>\n",
              "    <tr>\n",
              "      <th>...</th>\n",
              "      <td>...</td>\n",
              "      <td>...</td>\n",
              "      <td>...</td>\n",
              "      <td>...</td>\n",
              "      <td>...</td>\n",
              "      <td>...</td>\n",
              "      <td>...</td>\n",
              "      <td>...</td>\n",
              "      <td>...</td>\n",
              "      <td>...</td>\n",
              "      <td>...</td>\n",
              "      <td>...</td>\n",
              "      <td>...</td>\n",
              "      <td>...</td>\n",
              "      <td>...</td>\n",
              "      <td>...</td>\n",
              "    </tr>\n",
              "    <tr>\n",
              "      <th>a68cf4d807f9a78501dbf25baeed0f2e</th>\n",
              "      <td>1</td>\n",
              "      <td>1</td>\n",
              "      <td>1</td>\n",
              "      <td>1</td>\n",
              "      <td>1</td>\n",
              "      <td>1</td>\n",
              "      <td>1</td>\n",
              "      <td>1</td>\n",
              "      <td>1</td>\n",
              "      <td>1</td>\n",
              "      <td>1</td>\n",
              "      <td>0</td>\n",
              "      <td>0</td>\n",
              "      <td>1</td>\n",
              "      <td>1</td>\n",
              "      <td>1</td>\n",
              "    </tr>\n",
              "    <tr>\n",
              "      <th>a452e450f913cfe653eea58d50393718</th>\n",
              "      <td>1</td>\n",
              "      <td>1</td>\n",
              "      <td>1</td>\n",
              "      <td>1</td>\n",
              "      <td>1</td>\n",
              "      <td>1</td>\n",
              "      <td>1</td>\n",
              "      <td>1</td>\n",
              "      <td>1</td>\n",
              "      <td>1</td>\n",
              "      <td>1</td>\n",
              "      <td>0</td>\n",
              "      <td>0</td>\n",
              "      <td>1</td>\n",
              "      <td>1</td>\n",
              "      <td>1</td>\n",
              "    </tr>\n",
              "    <tr>\n",
              "      <th>4dcdedbb7dcab5692473c21c57f5d301</th>\n",
              "      <td>1</td>\n",
              "      <td>1</td>\n",
              "      <td>1</td>\n",
              "      <td>1</td>\n",
              "      <td>1</td>\n",
              "      <td>1</td>\n",
              "      <td>1</td>\n",
              "      <td>1</td>\n",
              "      <td>1</td>\n",
              "      <td>1</td>\n",
              "      <td>1</td>\n",
              "      <td>0</td>\n",
              "      <td>0</td>\n",
              "      <td>1</td>\n",
              "      <td>1</td>\n",
              "      <td>1</td>\n",
              "    </tr>\n",
              "    <tr>\n",
              "      <th>9e514ad49770973afe0b0762ef73c345</th>\n",
              "      <td>1</td>\n",
              "      <td>1</td>\n",
              "      <td>1</td>\n",
              "      <td>1</td>\n",
              "      <td>1</td>\n",
              "      <td>1</td>\n",
              "      <td>1</td>\n",
              "      <td>1</td>\n",
              "      <td>1</td>\n",
              "      <td>1</td>\n",
              "      <td>1</td>\n",
              "      <td>0</td>\n",
              "      <td>0</td>\n",
              "      <td>1</td>\n",
              "      <td>1</td>\n",
              "      <td>1</td>\n",
              "    </tr>\n",
              "    <tr>\n",
              "      <th>497d8cde733d14c2719561209431f9b1</th>\n",
              "      <td>1</td>\n",
              "      <td>1</td>\n",
              "      <td>1</td>\n",
              "      <td>1</td>\n",
              "      <td>1</td>\n",
              "      <td>1</td>\n",
              "      <td>1</td>\n",
              "      <td>1</td>\n",
              "      <td>1</td>\n",
              "      <td>1</td>\n",
              "      <td>1</td>\n",
              "      <td>0</td>\n",
              "      <td>0</td>\n",
              "      <td>1</td>\n",
              "      <td>1</td>\n",
              "      <td>1</td>\n",
              "    </tr>\n",
              "  </tbody>\n",
              "</table>\n",
              "<p>217 rows × 16 columns</p>\n",
              "</div>\n",
              "      <button class=\"colab-df-convert\" onclick=\"convertToInteractive('df-14874303-cd46-4261-afb3-5ff4988a8856')\"\n",
              "              title=\"Convert this dataframe to an interactive table.\"\n",
              "              style=\"display:none;\">\n",
              "        \n",
              "  <svg xmlns=\"http://www.w3.org/2000/svg\" height=\"24px\"viewBox=\"0 0 24 24\"\n",
              "       width=\"24px\">\n",
              "    <path d=\"M0 0h24v24H0V0z\" fill=\"none\"/>\n",
              "    <path d=\"M18.56 5.44l.94 2.06.94-2.06 2.06-.94-2.06-.94-.94-2.06-.94 2.06-2.06.94zm-11 1L8.5 8.5l.94-2.06 2.06-.94-2.06-.94L8.5 2.5l-.94 2.06-2.06.94zm10 10l.94 2.06.94-2.06 2.06-.94-2.06-.94-.94-2.06-.94 2.06-2.06.94z\"/><path d=\"M17.41 7.96l-1.37-1.37c-.4-.4-.92-.59-1.43-.59-.52 0-1.04.2-1.43.59L10.3 9.45l-7.72 7.72c-.78.78-.78 2.05 0 2.83L4 21.41c.39.39.9.59 1.41.59.51 0 1.02-.2 1.41-.59l7.78-7.78 2.81-2.81c.8-.78.8-2.07 0-2.86zM5.41 20L4 18.59l7.72-7.72 1.47 1.35L5.41 20z\"/>\n",
              "  </svg>\n",
              "      </button>\n",
              "      \n",
              "  <style>\n",
              "    .colab-df-container {\n",
              "      display:flex;\n",
              "      flex-wrap:wrap;\n",
              "      gap: 12px;\n",
              "    }\n",
              "\n",
              "    .colab-df-convert {\n",
              "      background-color: #E8F0FE;\n",
              "      border: none;\n",
              "      border-radius: 50%;\n",
              "      cursor: pointer;\n",
              "      display: none;\n",
              "      fill: #1967D2;\n",
              "      height: 32px;\n",
              "      padding: 0 0 0 0;\n",
              "      width: 32px;\n",
              "    }\n",
              "\n",
              "    .colab-df-convert:hover {\n",
              "      background-color: #E2EBFA;\n",
              "      box-shadow: 0px 1px 2px rgba(60, 64, 67, 0.3), 0px 1px 3px 1px rgba(60, 64, 67, 0.15);\n",
              "      fill: #174EA6;\n",
              "    }\n",
              "\n",
              "    [theme=dark] .colab-df-convert {\n",
              "      background-color: #3B4455;\n",
              "      fill: #D2E3FC;\n",
              "    }\n",
              "\n",
              "    [theme=dark] .colab-df-convert:hover {\n",
              "      background-color: #434B5C;\n",
              "      box-shadow: 0px 1px 3px 1px rgba(0, 0, 0, 0.15);\n",
              "      filter: drop-shadow(0px 1px 2px rgba(0, 0, 0, 0.3));\n",
              "      fill: #FFFFFF;\n",
              "    }\n",
              "  </style>\n",
              "\n",
              "      <script>\n",
              "        const buttonEl =\n",
              "          document.querySelector('#df-14874303-cd46-4261-afb3-5ff4988a8856 button.colab-df-convert');\n",
              "        buttonEl.style.display =\n",
              "          google.colab.kernel.accessAllowed ? 'block' : 'none';\n",
              "\n",
              "        async function convertToInteractive(key) {\n",
              "          const element = document.querySelector('#df-14874303-cd46-4261-afb3-5ff4988a8856');\n",
              "          const dataTable =\n",
              "            await google.colab.kernel.invokeFunction('convertToInteractive',\n",
              "                                                     [key], {});\n",
              "          if (!dataTable) return;\n",
              "\n",
              "          const docLinkHtml = 'Like what you see? Visit the ' +\n",
              "            '<a target=\"_blank\" href=https://colab.research.google.com/notebooks/data_table.ipynb>data table notebook</a>'\n",
              "            + ' to learn more about interactive tables.';\n",
              "          element.innerHTML = '';\n",
              "          dataTable['output_type'] = 'display_data';\n",
              "          await google.colab.output.renderOutput(dataTable, element);\n",
              "          const docLink = document.createElement('div');\n",
              "          docLink.innerHTML = docLinkHtml;\n",
              "          element.appendChild(docLink);\n",
              "        }\n",
              "      </script>\n",
              "    </div>\n",
              "  </div>\n",
              "  "
            ]
          },
          "metadata": {},
          "execution_count": 186
        }
      ]
    },
    {
      "cell_type": "code",
      "source": [
        "c1 = df1_captchas_grouped_by_worker.value_counts(\"INPUT:imageURL\")\n",
        "print(c1)\n",
        "c1.plot.bar(title =\"Evolution Avatar\",xlabel = \"Number of captchas set presented\", ylabel =\"Number of workers\")\n"
      ],
      "metadata": {
        "colab": {
          "base_uri": "https://localhost:8080/",
          "height": 524
        },
        "id": "8pO5ulz5LDnB",
        "outputId": "7f44150b-2747-4448-f724-2dd0af530273"
      },
      "execution_count": null,
      "outputs": [
        {
          "output_type": "stream",
          "name": "stdout",
          "text": [
            "INPUT:imageURL\n",
            "1     55\n",
            "2     43\n",
            "3     39\n",
            "4     20\n",
            "5     17\n",
            "6     13\n",
            "7     10\n",
            "10    10\n",
            "8      8\n",
            "9      2\n",
            "dtype: int64\n"
          ]
        },
        {
          "output_type": "execute_result",
          "data": {
            "text/plain": [
              "<matplotlib.axes._subplots.AxesSubplot at 0x7f0b9c608950>"
            ]
          },
          "metadata": {},
          "execution_count": 187
        },
        {
          "output_type": "display_data",
          "data": {
            "text/plain": [
              "<Figure size 432x288 with 1 Axes>"
            ],
            "image/png": "[encoded data removed]"
          },
          "metadata": {
            "needs_background": "light"
          }
        }
      ]
    },
    {
      "cell_type": "code",
      "source": [
        "c2 = df2_captchas_grouped_by_worker.value_counts(\"INPUT:imageURL\")\n",
        "# print(c2)\n",
        "c2.plot.bar(title =\"Static Avatar\",xlabel = \"Number of captchas presented\", ylabel =\"Number of workers\")\n",
        "plt.show()\n",
        "c2 = df2_captchas_grouped_by_worker.value_counts(\"OUTPUT:result1\")\n",
        "# print(c2)\n",
        "c2.plot.bar(title =\"Static Avatar\",xlabel = \"Number of results\", ylabel =\"Number of workers\")\n"
      ],
      "metadata": {
        "colab": {
          "base_uri": "https://localhost:8080/",
          "height": 584
        },
        "id": "3TgDIn8JNm6E",
        "outputId": "c77964ee-0df1-4c79-b91c-41067c4b1e43"
      },
      "execution_count": null,
      "outputs": [
        {
          "output_type": "display_data",
          "data": {
            "text/plain": [
              "<Figure size 432x288 with 1 Axes>"
            ],
            "image/png": "[encoded data removed]"
          },
          "metadata": {
            "needs_background": "light"
          }
        },
        {
          "output_type": "execute_result",
          "data": {
            "text/plain": [
              "<matplotlib.axes._subplots.AxesSubplot at 0x7f0b9ba72e50>"
            ]
          },
          "metadata": {},
          "execution_count": 173
        },
        {
          "output_type": "display_data",
          "data": {
            "text/plain": [
              "<Figure size 432x288 with 1 Axes>"
            ],
            "image/png": "[encoded data removed]"
          },
          "metadata": {
            "needs_background": "light"
          }
        }
      ]
    },
    {
      "cell_type": "code",
      "source": [
        "c3 = df3_captchas_grouped_by_worker.value_counts(\"INPUT:imageURL\")\n",
        "print(c3)\n",
        "c3.plot.bar(title =\"No Avatar\",xlabel = \"Number of captchas presented\", ylabel =\"Number of workers\")\n",
        "plt.show()\n",
        "c2 = df3_captchas_grouped_by_worker.value_counts(\"OUTPUT:result1\")\n",
        "# print(c2)\n",
        "c2.plot.bar(title =\"No Avatar\",xlabel = \"Number of results\", ylabel =\"Number of workers\")"
      ],
      "metadata": {
        "colab": {
          "base_uri": "https://localhost:8080/",
          "height": 805
        },
        "id": "kFHfqvoCNotl",
        "outputId": "81d24534-83fb-48ad-f3d2-93843d448f1d"
      },
      "execution_count": null,
      "outputs": [
        {
          "output_type": "stream",
          "name": "stdout",
          "text": [
            "INPUT:imageURL\n",
            "1     19\n",
            "2     18\n",
            "3     17\n",
            "5      8\n",
            "4      7\n",
            "6      6\n",
            "7      3\n",
            "8      2\n",
            "9      2\n",
            "10     2\n",
            "dtype: int64\n"
          ]
        },
        {
          "output_type": "display_data",
          "data": {
            "text/plain": [
              "<Figure size 432x288 with 1 Axes>"
            ],
            "image/png": "[encoded data removed]"
          },
          "metadata": {
            "needs_background": "light"
          }
        },
        {
          "output_type": "execute_result",
          "data": {
            "text/plain": [
              "<matplotlib.axes._subplots.AxesSubplot at 0x7f0b9b013290>"
            ]
          },
          "metadata": {},
          "execution_count": 180
        },
        {
          "output_type": "display_data",
          "data": {
            "text/plain": [
              "<Figure size 432x288 with 1 Axes>"
            ],
            "image/png": "[encoded data removed]"
          },
          "metadata": {
            "needs_background": "light"
          }
        }
      ]
    }
  ]
}